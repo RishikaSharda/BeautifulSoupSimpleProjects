{
 "cells": [
  {
   "cell_type": "code",
   "execution_count": 33,
   "metadata": {},
   "outputs": [],
   "source": [
    "import requests\n",
    "import pandas as pd\n",
    "from bs4 import BeautifulSoup\n"
   ]
  },
  {
   "cell_type": "code",
   "execution_count": 34,
   "metadata": {},
   "outputs": [],
   "source": [
    "url = \"https://news.ycombinator.com/news\""
   ]
  },
  {
   "cell_type": "code",
   "execution_count": 35,
   "metadata": {},
   "outputs": [],
   "source": [
    "response = requests.get(url)"
   ]
  },
  {
   "cell_type": "code",
   "execution_count": 36,
   "metadata": {},
   "outputs": [],
   "source": [
    "soup = BeautifulSoup(response.text, \"html.parser\")"
   ]
  },
  {
   "cell_type": "code",
   "execution_count": 45,
   "metadata": {},
   "outputs": [],
   "source": [
    "span_elements = soup.find_all('span', class_='titleline')\n",
    "score = soup.find_all('span', class_='score')"
   ]
  },
  {
   "cell_type": "code",
   "execution_count": 46,
   "metadata": {},
   "outputs": [],
   "source": [
    "article = []\n",
    "sc = []\n",
    "for s in score:\n",
    "    sc.append(s.text)\n",
    "for span in span_elements:\n",
    "    link = span.find('a')\n",
    "    title = link.text\n",
    "    url = link['href']\n",
    "    article.append([title, url])\n",
    "for i in range(len(article)-1):\n",
    "    article[i].append(sc[i])"
   ]
  },
  {
   "cell_type": "code",
   "execution_count": 47,
   "metadata": {},
   "outputs": [
    {
     "data": {
      "text/html": [
       "<div>\n",
       "<style scoped>\n",
       "    .dataframe tbody tr th:only-of-type {\n",
       "        vertical-align: middle;\n",
       "    }\n",
       "\n",
       "    .dataframe tbody tr th {\n",
       "        vertical-align: top;\n",
       "    }\n",
       "\n",
       "    .dataframe thead th {\n",
       "        text-align: right;\n",
       "    }\n",
       "</style>\n",
       "<table border=\"1\" class=\"dataframe\">\n",
       "  <thead>\n",
       "    <tr style=\"text-align: right;\">\n",
       "      <th></th>\n",
       "      <th>Title</th>\n",
       "      <th>URL</th>\n",
       "      <th>Score</th>\n",
       "    </tr>\n",
       "  </thead>\n",
       "  <tbody>\n",
       "    <tr>\n",
       "      <th>0</th>\n",
       "      <td>Windows 11 in Svelte</td>\n",
       "      <td>https://github.com/yashash-pugalia/win11-svelte</td>\n",
       "      <td>156 points</td>\n",
       "    </tr>\n",
       "    <tr>\n",
       "      <th>1</th>\n",
       "      <td>Google Earth 3D Models Now Available as Open S...</td>\n",
       "      <td>https://cloud.google.com/blog/products/maps-pl...</td>\n",
       "      <td>109 points</td>\n",
       "    </tr>\n",
       "    <tr>\n",
       "      <th>2</th>\n",
       "      <td>The Xerox PARC Archive</td>\n",
       "      <td>https://info.computerhistory.org/xerox-parc-ar...</td>\n",
       "      <td>31 points</td>\n",
       "    </tr>\n",
       "    <tr>\n",
       "      <th>3</th>\n",
       "      <td>When you lose the ability to write, you also l...</td>\n",
       "      <td>https://twitter.com/paulg/status/1655925905527...</td>\n",
       "      <td>70 points</td>\n",
       "    </tr>\n",
       "    <tr>\n",
       "      <th>4</th>\n",
       "      <td>Scientists regenerate hair cells that enable h...</td>\n",
       "      <td>https://hms.harvard.edu/news/scientists-regene...</td>\n",
       "      <td>107 points</td>\n",
       "    </tr>\n",
       "  </tbody>\n",
       "</table>\n",
       "</div>"
      ],
      "text/plain": [
       "                                               Title   \n",
       "0                               Windows 11 in Svelte  \\\n",
       "1  Google Earth 3D Models Now Available as Open S...   \n",
       "2                             The Xerox PARC Archive   \n",
       "3  When you lose the ability to write, you also l...   \n",
       "4  Scientists regenerate hair cells that enable h...   \n",
       "\n",
       "                                                 URL       Score  \n",
       "0    https://github.com/yashash-pugalia/win11-svelte  156 points  \n",
       "1  https://cloud.google.com/blog/products/maps-pl...  109 points  \n",
       "2  https://info.computerhistory.org/xerox-parc-ar...   31 points  \n",
       "3  https://twitter.com/paulg/status/1655925905527...   70 points  \n",
       "4  https://hms.harvard.edu/news/scientists-regene...  107 points  "
      ]
     },
     "execution_count": 47,
     "metadata": {},
     "output_type": "execute_result"
    }
   ],
   "source": [
    "article_df = pd.DataFrame(article, columns=['Title', 'URL', 'Score'])\n",
    "article_df.head()"
   ]
  },
  {
   "cell_type": "code",
   "execution_count": null,
   "metadata": {},
   "outputs": [],
   "source": []
  }
 ],
 "metadata": {
  "kernelspec": {
   "display_name": "Python 3",
   "language": "python",
   "name": "python3"
  },
  "language_info": {
   "codemirror_mode": {
    "name": "ipython",
    "version": 3
   },
   "file_extension": ".py",
   "mimetype": "text/x-python",
   "name": "python",
   "nbconvert_exporter": "python",
   "pygments_lexer": "ipython3",
   "version": "3.11.3"
  },
  "orig_nbformat": 4
 },
 "nbformat": 4,
 "nbformat_minor": 2
}
