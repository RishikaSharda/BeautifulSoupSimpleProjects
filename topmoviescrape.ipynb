{
 "cells": [
  {
   "cell_type": "code",
   "execution_count": 3,
   "metadata": {},
   "outputs": [],
   "source": [
    "import requests\n",
    "import pandas as pd\n",
    "from bs4 import BeautifulSoup\n"
   ]
  },
  {
   "cell_type": "code",
   "execution_count": 4,
   "metadata": {},
   "outputs": [],
   "source": [
    "url = \"https://web.archive.org/web/20200518073855/https://www.empireonline.com/movies/features/best-movies-2/\""
   ]
  },
  {
   "cell_type": "code",
   "execution_count": 5,
   "metadata": {},
   "outputs": [],
   "source": [
    "response = requests.get(url)"
   ]
  },
  {
   "cell_type": "code",
   "execution_count": 6,
   "metadata": {},
   "outputs": [],
   "source": [
    "soup = BeautifulSoup(response.text, \"html.parser\")"
   ]
  },
  {
   "cell_type": "code",
   "execution_count": 9,
   "metadata": {},
   "outputs": [
    {
     "data": {
      "text/plain": [
       "['100) Stand By Me',\n",
       " '99) Raging Bull',\n",
       " '98) Amelie',\n",
       " '97) Titanic',\n",
       " '96) Good Will Hunting',\n",
       " '95) Arrival',\n",
       " '94) Lost In Translation',\n",
       " '93) The Princess Bride',\n",
       " '92) The Terminator',\n",
       " '91) The Prestige',\n",
       " '90) No Country For Old Men',\n",
       " '89) Shaun Of The Dead',\n",
       " '88) The Exorcist',\n",
       " '87) Predator',\n",
       " '86) Indiana Jones And The Last Crusade',\n",
       " '85) LÃ©on',\n",
       " '84) Rocky',\n",
       " '83) True Romance',\n",
       " '82) Some Like It Hot',\n",
       " '81) The Social Network',\n",
       " '15) Spirited Away',\n",
       " '79) Captain America: Civil War',\n",
       " '78) Oldboy',\n",
       " '77) Toy Story',\n",
       " '76) A Clockwork Orange',\n",
       " '75) Fargo',\n",
       " '74) Mulholland Dr.',\n",
       " '73) Seven Samurai',\n",
       " '72) Rear Window',\n",
       " '71) Hot Fuzz',\n",
       " '70) The Lion King',\n",
       " \"69) Singin' In The Rain\",\n",
       " '68) Ghostbusters',\n",
       " '67) Memento',\n",
       " '66) Return Of The Jedi',\n",
       " '65) Avengers Assemble',\n",
       " '64) L.A. Confidential',\n",
       " '63) Donnie Darko',\n",
       " '62) La La Land',\n",
       " '61) Forrest Gump',\n",
       " '60) American Beauty',\n",
       " '59) E.T. â\\x80\\x93 The Extra Terrestrial',\n",
       " '58) Inglourious Basterds',\n",
       " '57) Whiplash',\n",
       " '56) Reservoir Dogs',\n",
       " \"55) Pan's Labyrinth\",\n",
       " '54) Vertigo',\n",
       " '53) Psycho',\n",
       " '52) Once Upon A Time In The West',\n",
       " \"51) It's A Wonderful Life\",\n",
       " '50) Lawrence Of Arabia',\n",
       " '49) Trainspotting',\n",
       " '48) The Silence Of The Lambs',\n",
       " '47) Interstellar',\n",
       " '46) Citizen Kane',\n",
       " '45) Drive',\n",
       " '44) Gladiator',\n",
       " \"43) One Flew Over The Cuckoo's Nest\",\n",
       " '42) There Will Be Blood',\n",
       " '41) Eternal Sunshine Of The Spotless Mind',\n",
       " '40) 12 Angry Men',\n",
       " '39) Saving Private Ryan',\n",
       " '38) Mad Max: Fury Road',\n",
       " '37) The Thing',\n",
       " '36) The Departed',\n",
       " '35) The Shining',\n",
       " '34) Guardians Of The Galaxy',\n",
       " \"33) Schindler's List\",\n",
       " '32) The Usual Suspects',\n",
       " '31) Taxi Driver',\n",
       " '30) Seven',\n",
       " '29) The Big Lebowski',\n",
       " '28) Casablanca',\n",
       " '27) The Good, The Bad And The Ugly',\n",
       " '26) Heat',\n",
       " '25) Terminator 2: Judgment Day',\n",
       " '24) The Matrix',\n",
       " '23) The Lord Of The Rings: The Two Towers',\n",
       " '22) Apocalypse Now',\n",
       " '21) 2001: A Space Odyssey',\n",
       " '20) Die Hard',\n",
       " '19) Jurassic Park',\n",
       " '18) Inception',\n",
       " '17) Fight Club',\n",
       " '16) The Lord Of The Rings: The Return Of The King',\n",
       " '15) Aliens',\n",
       " '14) Alien',\n",
       " '13) Blade Runner',\n",
       " '12: The Godfather Part II',\n",
       " '11) Back To The Future',\n",
       " '10) The Lord Of The Rings: The Fellowship Of The Ring',\n",
       " '9) Star Wars',\n",
       " '8) Jaws',\n",
       " '7) Raiders Of The Lost Ark',\n",
       " '6) Goodfellas',\n",
       " '5) Pulp Fiction',\n",
       " '4) The Shawshank Redemption',\n",
       " '3) The Dark Knight',\n",
       " '2) The Empire Strikes Back',\n",
       " '1) The Godfather']"
      ]
     },
     "execution_count": 9,
     "metadata": {},
     "output_type": "execute_result"
    }
   ],
   "source": [
    "movie_names = soup.find_all(name=\"h3\", class_=\"title\")\n",
    "movie_names = [movie.getText() for movie in movie_names]\n",
    "movie_names"
   ]
  },
  {
   "cell_type": "code",
   "execution_count": null,
   "metadata": {},
   "outputs": [],
   "source": []
  }
 ],
 "metadata": {
  "kernelspec": {
   "display_name": "Python 3",
   "language": "python",
   "name": "python3"
  },
  "language_info": {
   "codemirror_mode": {
    "name": "ipython",
    "version": 3
   },
   "file_extension": ".py",
   "mimetype": "text/x-python",
   "name": "python",
   "nbconvert_exporter": "python",
   "pygments_lexer": "ipython3",
   "version": "3.11.3"
  },
  "orig_nbformat": 4
 },
 "nbformat": 4,
 "nbformat_minor": 2
}
